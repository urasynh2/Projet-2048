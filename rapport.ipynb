{
 "cells": [
  {
   "cell_type": "markdown",
   "id": "30b57755",
   "metadata": {},
   "source": [
    "# Rapport de projet"
   ]
  },
  {
   "cell_type": "markdown",
   "id": "f110bf45",
   "metadata": {},
   "source": [
    "## Auteurs\n",
    "\n",
    "- OUHAIBIA, Mohamed Amine, mohamed-amine.ouhaibia@universite-paris-saclay.fr, MI2\n",
    "- Mondoba, Exaucé, exauce.mondoba@universite-paris-saclay.fr, MI2"
   ]
  },
  {
   "cell_type": "markdown",
   "id": "f108957c",
   "metadata": {},
   "source": [
    "## Résumé du travail effectué\n",
    "\n",
    "\n",
    "- Niveau 0:\n",
    "\n",
    "-la fonction tireDeuxOuQuatre() fonctionne, a été simple à faire\n",
    "\n",
    "-la fonction plateauVide() fonctionne \n",
    "\n",
    "-la fonction plateauInitial() fonctionne\n",
    "\n",
    "-la fonction dessine fonctionne, au debut nous l'avions construite comme une fonction void qui affichait le plateau puis on aons modifié cela.\n",
    "\n",
    "-la fonction affichePlateau fonctionne, faite pour remplacer la fonction dessine que nous avions faite au début mais non utilisée remplacée par le printw() de ncurses.\n",
    "\n",
    "-les 4 fonctions deplacement ont pris le plus de temps; au debut pour comprendre comment elles étaient censées fonctionner, puis nous avons eu des problemes d'index (exemple: nous avions mis for(int j=0; j<plat[i].size(); j++) et lorsque le programme arrivait à la derniere case il cherhcait plat[i][j+1] sauf que cette case n'existe pas, la derniere case étant j=3),nous avons aussi eu des problemes par rapport au fait qu'apres une \"double\" fusion c'est a dire le cas ou il ya une ligne entiere de tuile qui peuvent se combiner, on avait des 0 entre les nouvelles tuiles (exemple: {2,2,2,2} apres un deplacement a gauche donnait {4,0,4,0}, nous avions aussi utiliser un système de debuggage en affichant le plateau manipulé a chaque fin de boucle.\n",
    "\n",
    "-la fonction deplacement n'était pas dure à faire du tout,\n",
    "\n",
    "-les fonctions estTermine et game_over a été faites très facilement et instinctivement\n",
    "\n",
    "-la fonction main a été faite, nous avons hésité à utiliser les touches z q s d en donnant à la variable move le type string, et en utilisant eventuelement un dictionnaire associant q à 1, z à 5, d à 3 et s à 2. Nous avons finalement utiliser la bibliothèque ncurses pour éviter au joueur de devoir appuyer sur entrée et avant cela nous utilisions les touches 1 2 3 5 et entrée pour jouer.\n",
    "\n",
    "\n",
    "- Niveau 1: \n",
    "\n",
    "-(1.1) Faite, mais nous avons la meme couleur pour tout le tableau, nous avons essayé et reflechis à comment mettre des couleurs differentes pour chaque tuiles, mais inachevé \n",
    "\n",
    "-(1.2) faite\n",
    "\n",
    "-(1.3) faite en utilisant ncurses, nous avions utiliser une suite precise de caracteres au debut(cf fct dessine) qui permet de rafracihir l'ecran et ce sur nimporte quelle code, nous l'avions mise 2 fois dans la fonction main, une fois au tout début pour rafraichir le terminal et retirer les commandes de compilation, et une deuxiéme fois dans la boucle while avant chaque appel de la fcontion affichePlateau(), et au final nous avons remplacé par clear() de ncurses\n",
    "\n",
    "-(1.4) Nous avons commencé à y réfléchir, nous avons eu l'idée d'additionner les valeurs de chaque tuile qui ne vient pas d'apparaitre, mais malheuresement nous nous sommes rendus compte que le fait que 2 valeurs differentes peuvent apparaitrev(2 et 4) et cela aurait faussé le calcul de score, nous avions également pensé à utiliser une 5eme ligne dans les plateaux qui calculerait le score (mais nous n'étions d'accord ur l'éfficacité de cette méthode) \n",
    "\n",
    "- Niveau 2:\n",
    "\n",
    "-(2.1) nous avons un makefile avec les conseils d'une camarade, mais puisque tout notre programme est dans un seul fichier on peut ne pas l'utiliser"
   ]
  },
  {
   "cell_type": "markdown",
   "id": "eec3ec88",
   "metadata": {},
   "source": [
    "## Démonstration\n",
    "\n",
    "exemple pertinents:\n",
    "les 4 deplacements\n",
    "deplacement \n",
    "game_over\n",
    "lancer tout les tests"
   ]
  },
  {
   "cell_type": "code",
   "execution_count": null,
   "id": "3cb24421",
   "metadata": {},
   "outputs": [],
   "source": [
    "! info-111 g++ 2048.cpp -o 2048"
   ]
  },
  {
   "cell_type": "markdown",
   "id": "8d5d4d55",
   "metadata": {},
   "source": [
    "## Organisation du travail\n",
    "\n",
    "La première fois nous nous sommes retrouver à la bibliothèque universitaire, et nous nous sommes repartis le travail, nous avons consacrés a peu près 42 heures en tout sur ce projet, nous avons utilisé discord pour communiquer et nous envoyer les differentes versions du code, et nous nous sommes légèrement fait conseiller par un ancien élève qui est membre de mon association, il nous a simplemement indiqué qu'il y avait un probleme d'index quelque part dans les fonctions deplacement."
   ]
  },
  {
   "cell_type": "markdown",
   "id": "08717954",
   "metadata": {},
   "source": [
    "## Prise de recul\n",
    "\n",
    "Les plus gros soucis étaient des problemes d'index et des erreurs qui nous ont bloqué au début, des erreurs de syntaxe.\n",
    "Nous avons appris que des fois de tout petits problemes peuvent bloquer tout un programme"
   ]
  }
 ],
 "metadata": {
  "jupytext": {
   "text_representation": {
    "extension": ".md",
    "format_name": "myst",
    "format_version": 0.13,
    "jupytext_version": "1.11.5"
   }
  },
  "kernelspec": {
   "display_name": "C++17",
   "language": "C++17",
   "name": "xcpp17"
  },
  "language_info": {
   "codemirror_mode": "text/x-c++src",
   "file_extension": ".cpp",
   "mimetype": "text/x-c++src",
   "name": "c++",
   "version": "17"
  }
 },
 "nbformat": 4,
 "nbformat_minor": 5
}
